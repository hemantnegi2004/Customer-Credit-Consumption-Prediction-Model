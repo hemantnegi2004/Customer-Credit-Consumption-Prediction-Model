{
 "cells": [
  {
   "cell_type": "code",
   "execution_count": 98,
   "id": "3a8f3e04-67d3-4deb-9749-121553a4e2d3",
   "metadata": {},
   "outputs": [],
   "source": [
    "import pandas as pd\n",
    "import numpy as np\n",
    "import seaborn as sns\n",
    "import matplotlib.pyplot as plt\n",
    "import os\n",
    "import warnings\n",
    "warnings.filterwarnings('ignore')"
   ]
  },
  {
   "cell_type": "code",
   "execution_count": 100,
   "id": "92451bad-a7c3-42a4-8ab7-51139e478a26",
   "metadata": {},
   "outputs": [],
   "source": [
    "os.chdir('C:\\\\Users\\\\ASUS\\\\OneDrive\\\\Desktop\\\\python case studies\\\\Machine Learning Projects\\\\11. Capstone Case Study - Predict Cred Card Consumption')"
   ]
  },
  {
   "cell_type": "markdown",
   "id": "39eaea22-7930-47ad-b8e5-5904c7bf8daf",
   "metadata": {},
   "source": [
    "#### UPLOADING THE DATA"
   ]
  },
  {
   "cell_type": "code",
   "execution_count": 103,
   "id": "9291437b-fb26-4d65-ba5f-b04ce6465fd8",
   "metadata": {},
   "outputs": [],
   "source": [
    "df = pd.read_csv('testdata.csv')"
   ]
  },
  {
   "cell_type": "code",
   "execution_count": 104,
   "id": "605884e9-402b-42aa-8554-7b4afc6c1ca8",
   "metadata": {},
   "outputs": [],
   "source": [
    "df.drop(columns='cc_cons',inplace=True)"
   ]
  },
  {
   "cell_type": "code",
   "execution_count": 105,
   "id": "473be966-b905-4299-9423-9d93416963b9",
   "metadata": {},
   "outputs": [],
   "source": [
    "final_df = df['ID']"
   ]
  },
  {
   "cell_type": "markdown",
   "id": "cfd0e9b8-0bcf-4e0e-a325-a2aed6beae23",
   "metadata": {},
   "source": [
    "#### HANDLING NULL VALUES"
   ]
  },
  {
   "cell_type": "code",
   "execution_count": 107,
   "id": "ebbce6fc-cc8f-4fcc-85c3-c11b78db4ee4",
   "metadata": {},
   "outputs": [
    {
     "data": {
      "text/plain": [
       "ID                              0\n",
       "cc_cons_apr                     0\n",
       "dc_cons_apr                     0\n",
       "cc_cons_may                     0\n",
       "dc_cons_may                     0\n",
       "cc_cons_jun                     0\n",
       "dc_cons_jun                     0\n",
       "cc_count_apr                    0\n",
       "cc_count_may                    0\n",
       "cc_count_jun                    0\n",
       "dc_count_apr                    0\n",
       "dc_count_may                    0\n",
       "dc_count_jun                    0\n",
       "card_lim                        0\n",
       "personal_loan_active            0\n",
       "vehicle_loan_active             0\n",
       "personal_loan_closed            0\n",
       "vehicle_loan_closed             0\n",
       "investment_1                    0\n",
       "investment_2                    0\n",
       "investment_3                    0\n",
       "investment_4                    0\n",
       "debit_amount_apr                0\n",
       "credit_amount_apr               0\n",
       "debit_count_apr                 0\n",
       "credit_count_apr                0\n",
       "max_credit_amount_apr           0\n",
       "debit_amount_may                0\n",
       "credit_amount_may               0\n",
       "credit_count_may                0\n",
       "debit_count_may                 0\n",
       "max_credit_amount_may           0\n",
       "debit_amount_jun                0\n",
       "credit_amount_jun               0\n",
       "credit_count_jun                0\n",
       "debit_count_jun                 0\n",
       "max_credit_amount_jun           0\n",
       "loan_enq                        0\n",
       "emi_active                      0\n",
       "account_type                    0\n",
       "gender                          0\n",
       "age                             0\n",
       "Income                          0\n",
       "Emp_Tenure_Years                0\n",
       "Tenure_with_Bank                0\n",
       "region_code                     0\n",
       "NetBanking_Flag                 0\n",
       "Avg_days_between_transaction    0\n",
       "dtype: int64"
      ]
     },
     "execution_count": 107,
     "metadata": {},
     "output_type": "execute_result"
    }
   ],
   "source": [
    "df.isnull().sum()"
   ]
  },
  {
   "cell_type": "markdown",
   "id": "c68048f9-7400-4428-a4a2-dec05ee21274",
   "metadata": {},
   "source": [
    "#### CONVERTING CATEGORICAL TO NUMERICAL DATA"
   ]
  },
  {
   "cell_type": "code",
   "execution_count": 109,
   "id": "49e7491a-9d0f-48f3-b63b-4e9b797a3085",
   "metadata": {},
   "outputs": [],
   "source": [
    "mapping_df = pd.read_csv('mapping_dict.csv')"
   ]
  },
  {
   "cell_type": "code",
   "execution_count": 112,
   "id": "49ef0601-42ee-45f4-adc4-11f05d137a92",
   "metadata": {},
   "outputs": [],
   "source": [
    "mapping_dict = dict(mapping_df.values)"
   ]
  },
  {
   "cell_type": "code",
   "execution_count": 114,
   "id": "a42c18e4-5d4b-4013-858e-6d65750d70d8",
   "metadata": {},
   "outputs": [
    {
     "name": "stdout",
     "output_type": "stream",
     "text": [
      "['Y']\n",
      "['current' 'saving']\n",
      "['M' 'F' '0']\n",
      "['MEDIUM' 'LOW' 'HIGH' '0']\n"
     ]
    }
   ],
   "source": [
    "cat_col = ['loan_enq', 'account_type', 'gender', 'Income']\n",
    "for col in cat_col:\n",
    "    print(df[col].unique())"
   ]
  },
  {
   "cell_type": "code",
   "execution_count": 115,
   "id": "5c9aa788-07da-4f36-a676-701706df9659",
   "metadata": {},
   "outputs": [],
   "source": [
    "df = df[(df['gender']!='0')&(df['Income']!='0')]"
   ]
  },
  {
   "cell_type": "code",
   "execution_count": 116,
   "id": "779bd515-4d27-4e8f-bc75-29b08ff03be1",
   "metadata": {},
   "outputs": [],
   "source": [
    "for col in cat_col:\n",
    "    df[col] = df[col].apply(lambda x: mapping_dict[x])"
   ]
  },
  {
   "cell_type": "markdown",
   "id": "419bdc94-06d5-4645-95ca-feae4fe292cc",
   "metadata": {},
   "source": [
    "#### STANDARDIZATION"
   ]
  },
  {
   "cell_type": "code",
   "execution_count": 118,
   "id": "8021299b-9214-4b7c-834e-6acf6373a151",
   "metadata": {},
   "outputs": [],
   "source": [
    "import pickle\n",
    "with open('./StandardScaler.pkl','rb') as file:\n",
    "    ss = pickle.load(file)"
   ]
  },
  {
   "cell_type": "code",
   "execution_count": 119,
   "id": "8722f8a5-1a5b-4cbf-aa22-15fb93a31b5f",
   "metadata": {},
   "outputs": [],
   "source": [
    "x_ft = ss.fit_transform(df)\n",
    "x_ft = pd.DataFrame(x_ft)"
   ]
  },
  {
   "cell_type": "markdown",
   "id": "d987a7da-759d-45f9-bba3-023f3bac27e3",
   "metadata": {},
   "source": [
    "#### PREDICTING FINAL DATA"
   ]
  },
  {
   "cell_type": "code",
   "execution_count": 121,
   "id": "5ec30221-57f3-48a7-a4b3-1300a3a434d8",
   "metadata": {},
   "outputs": [],
   "source": [
    "with open('./BestModel.pkl','rb') as file:\n",
    "    lr = pickle.load(file)"
   ]
  },
  {
   "cell_type": "code",
   "execution_count": 123,
   "id": "80a6c18a-f41d-4e16-bb2a-0c0468a7ba3a",
   "metadata": {},
   "outputs": [],
   "source": [
    "pred = lr.predict(x_ft)"
   ]
  },
  {
   "cell_type": "code",
   "execution_count": 125,
   "id": "b1a4045e-6c3f-4795-8b5c-026f45f358b7",
   "metadata": {},
   "outputs": [],
   "source": [
    "pred_df = pd.DataFrame(pred,columns=['cc_cons'])"
   ]
  },
  {
   "cell_type": "code",
   "execution_count": 133,
   "id": "5ef332f6-1da5-4467-b15d-20120b26137b",
   "metadata": {},
   "outputs": [],
   "source": [
    "submit_df = pd.concat([final_df,pred_df],axis=1)"
   ]
  },
  {
   "cell_type": "code",
   "execution_count": 134,
   "id": "a78c3ac2-17ea-4f4a-8a69-91c7f235e425",
   "metadata": {},
   "outputs": [],
   "source": [
    "submit_df.to_csv('FinalSubmission.csv',index=False)"
   ]
  },
  {
   "cell_type": "code",
   "execution_count": null,
   "id": "7748f733-24af-4adc-828d-dab8131920d1",
   "metadata": {},
   "outputs": [],
   "source": []
  },
  {
   "cell_type": "code",
   "execution_count": null,
   "id": "641f3537-070f-4a0b-975d-c5c1847864cd",
   "metadata": {},
   "outputs": [],
   "source": []
  },
  {
   "cell_type": "code",
   "execution_count": null,
   "id": "f4ef6466-c27c-4d83-af9b-798c3bf91bf1",
   "metadata": {},
   "outputs": [],
   "source": []
  },
  {
   "cell_type": "code",
   "execution_count": null,
   "id": "252e46f4-d53c-46cd-85f4-790d5e2f39ea",
   "metadata": {},
   "outputs": [],
   "source": []
  },
  {
   "cell_type": "code",
   "execution_count": null,
   "id": "b8d09dbe-e520-40bd-97af-892f03d6b0e2",
   "metadata": {},
   "outputs": [],
   "source": []
  },
  {
   "cell_type": "code",
   "execution_count": null,
   "id": "9ce131c8-5272-4e47-b723-58a327e379b8",
   "metadata": {},
   "outputs": [],
   "source": []
  },
  {
   "cell_type": "code",
   "execution_count": null,
   "id": "a4ce6373-dfac-454c-ba56-0c6cd3e8b783",
   "metadata": {},
   "outputs": [],
   "source": []
  }
 ],
 "metadata": {
  "kernelspec": {
   "display_name": "Python (NLP_DL)",
   "language": "python",
   "name": "nlp_dl_env"
  },
  "language_info": {
   "codemirror_mode": {
    "name": "ipython",
    "version": 3
   },
   "file_extension": ".py",
   "mimetype": "text/x-python",
   "name": "python",
   "nbconvert_exporter": "python",
   "pygments_lexer": "ipython3",
   "version": "3.10.16"
  }
 },
 "nbformat": 4,
 "nbformat_minor": 5
}
