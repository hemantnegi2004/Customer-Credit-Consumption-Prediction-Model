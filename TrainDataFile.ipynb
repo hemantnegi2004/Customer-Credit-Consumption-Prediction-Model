{
 "cells": [
  {
   "cell_type": "markdown",
   "id": "1f5ec98d-05c6-47e5-880b-8eb9a988722c",
   "metadata": {},
   "source": [
    "## 📊 Project Overview: Customer Credit Consumption Prediction\n",
    "\n",
    "### 🧾 Objective:\n",
    "\n",
    "To build a machine learning model that predicts the **average credit card spend** of customers for the **next three months**, based on their **demographic data, financial behavior, and historical transaction patterns**. The model helps in better **customer profiling** and supports **targeted financial offerings** by banking institutions.\n",
    "\n",
    "---\n",
    "\n",
    "### 🏦 Business Context:\n",
    "\n",
    "In the credit card industry, understanding customer-level spending behavior is crucial for strategic decisions like personalized offers, risk assessment, and customer retention. This project aims to analyze customer data to uncover patterns in credit card consumption and forecast future spending for improved decision-making.\n",
    "\n",
    "---\n",
    "\n",
    "### 📁 Dataset:\n",
    "\n",
    "The project uses three datasets:\n",
    "\n",
    "* **Customer Demographics** – Basic profile details like age, income, region, banking tenure, etc.\n",
    "* **Behavioral Data** – Credit/debit card transactions, loan history, asset holdings, and account activity over three months (April to June).\n",
    "* **Credit Consumption** – Target variable indicating average credit card consumption over the upcoming three months (July to September); partially missing and used for prediction.\n",
    "\n",
    "---\n",
    "\n",
    "### 🔧 Methodology:\n",
    "\n",
    "* **Data Preprocessing**: Merged datasets, handled missing values, outliers, and inconsistent data.\n",
    "* **Feature Engineering**: Created meaningful derived variables to enhance model learning (e.g., transaction frequency, credit utilization).\n",
    "* **EDA**: Explored key trends and correlations influencing credit card spending.\n",
    "* **Modeling**: Built and tuned regression models (e.g., Linear Regression, Decision Tree, etc.).\n",
    "* **Evaluation**: Assessed model performance using **RMSPE (Root Mean Square Percentage Error)**.\n",
    "* **Prediction**: Generated credit consumption predictions for customers with missing target values.\n",
    "\n",
    "---\n",
    "\n",
    "### 🧠 Skills & Tools Used:\n",
    "\n",
    "* **Languages**: Python\n",
    "* **Libraries**: Pandas, NumPy, Scikit-learn, Matplotlib, Seaborn\n",
    "* **Techniques**: Data Cleaning, Feature Engineering, Regression Modeling, Model Evaluation, Predictive Analytics\n",
    "\n",
    "---\n",
    "\n",
    "### ✅ Outcome:\n",
    "\n",
    "Achieved a predictive model capable of estimating future credit card spending with minimized error. The insights derived enable banks to personalize services and refine their customer engagement strategies.\n"
   ]
  },
  {
   "cell_type": "code",
   "execution_count": 115,
   "id": "89063054-148b-4fc5-832b-62daf84fad19",
   "metadata": {},
   "outputs": [],
   "source": [
    "import pandas as pd\n",
    "import numpy as np\n",
    "import seaborn as sns\n",
    "import matplotlib.pyplot as plt\n",
    "import os\n",
    "import warnings\n",
    "warnings.filterwarnings('ignore')"
   ]
  },
  {
   "cell_type": "code",
   "execution_count": 2,
   "id": "88385bec-b914-48d5-ab49-c0bc49e755af",
   "metadata": {},
   "outputs": [],
   "source": [
    "os.chdir('C:\\\\Users\\\\ASUS\\\\OneDrive\\\\Desktop\\\\python case studies\\\\Machine Learning Projects\\\\11. Capstone Case Study - Predict Cred Card Consumption')"
   ]
  },
  {
   "cell_type": "markdown",
   "id": "a7a0d02e-8176-46d1-8247-723240ea0036",
   "metadata": {},
   "source": [
    "#### Uploading Data"
   ]
  },
  {
   "cell_type": "code",
   "execution_count": 7,
   "id": "9b875fc9-8f81-4929-a337-b4242f77403a",
   "metadata": {},
   "outputs": [],
   "source": [
    "customer = pd.read_excel('CustomerDemographics.xlsx')\n",
    "CustomerBehavior = pd.read_excel('CustomerBehaviorData.xlsx')\n",
    "CreditConsumption = pd.read_excel('CreditConsumptionData.xlsx')"
   ]
  },
  {
   "cell_type": "code",
   "execution_count": 16,
   "id": "4ce93367-63c7-4a33-87ee-ee46c9ce75db",
   "metadata": {},
   "outputs": [
    {
     "data": {
      "text/html": [
       "<div>\n",
       "<style scoped>\n",
       "    .dataframe tbody tr th:only-of-type {\n",
       "        vertical-align: middle;\n",
       "    }\n",
       "\n",
       "    .dataframe tbody tr th {\n",
       "        vertical-align: top;\n",
       "    }\n",
       "\n",
       "    .dataframe thead th {\n",
       "        text-align: right;\n",
       "    }\n",
       "</style>\n",
       "<table border=\"1\" class=\"dataframe\">\n",
       "  <thead>\n",
       "    <tr style=\"text-align: right;\">\n",
       "      <th></th>\n",
       "      <th>ID</th>\n",
       "      <th>account_type</th>\n",
       "      <th>gender</th>\n",
       "      <th>age</th>\n",
       "      <th>Income</th>\n",
       "      <th>Emp_Tenure_Years</th>\n",
       "      <th>Tenure_with_Bank</th>\n",
       "      <th>region_code</th>\n",
       "      <th>NetBanking_Flag</th>\n",
       "      <th>Avg_days_between_transaction</th>\n",
       "    </tr>\n",
       "  </thead>\n",
       "  <tbody>\n",
       "    <tr>\n",
       "      <th>0</th>\n",
       "      <td>17051</td>\n",
       "      <td>current</td>\n",
       "      <td>M</td>\n",
       "      <td>30</td>\n",
       "      <td>MEDIUM</td>\n",
       "      <td>26.4</td>\n",
       "      <td>9</td>\n",
       "      <td>9</td>\n",
       "      <td>355</td>\n",
       "      <td>0</td>\n",
       "    </tr>\n",
       "    <tr>\n",
       "      <th>1</th>\n",
       "      <td>11491</td>\n",
       "      <td>current</td>\n",
       "      <td>M</td>\n",
       "      <td>37</td>\n",
       "      <td>LOW</td>\n",
       "      <td>14.4</td>\n",
       "      <td>7</td>\n",
       "      <td>7</td>\n",
       "      <td>485</td>\n",
       "      <td>0</td>\n",
       "    </tr>\n",
       "  </tbody>\n",
       "</table>\n",
       "</div>"
      ],
      "text/plain": [
       "      ID account_type gender  age  Income  Emp_Tenure_Years  Tenure_with_Bank  \\\n",
       "0  17051      current      M   30  MEDIUM              26.4                 9   \n",
       "1  11491      current      M   37     LOW              14.4                 7   \n",
       "\n",
       "   region_code  NetBanking_Flag  Avg_days_between_transaction  \n",
       "0            9              355                             0  \n",
       "1            7              485                             0  "
      ]
     },
     "execution_count": 16,
     "metadata": {},
     "output_type": "execute_result"
    }
   ],
   "source": [
    "customer.head(2)"
   ]
  },
  {
   "cell_type": "code",
   "execution_count": 14,
   "id": "8a80fa26-2a8f-4f6b-8d7a-b168bfd71793",
   "metadata": {},
   "outputs": [
    {
     "data": {
      "text/html": [
       "<div>\n",
       "<style scoped>\n",
       "    .dataframe tbody tr th:only-of-type {\n",
       "        vertical-align: middle;\n",
       "    }\n",
       "\n",
       "    .dataframe tbody tr th {\n",
       "        vertical-align: top;\n",
       "    }\n",
       "\n",
       "    .dataframe thead th {\n",
       "        text-align: right;\n",
       "    }\n",
       "</style>\n",
       "<table border=\"1\" class=\"dataframe\">\n",
       "  <thead>\n",
       "    <tr style=\"text-align: right;\">\n",
       "      <th></th>\n",
       "      <th>ID</th>\n",
       "      <th>cc_cons_apr</th>\n",
       "      <th>dc_cons_apr</th>\n",
       "      <th>cc_cons_may</th>\n",
       "      <th>dc_cons_may</th>\n",
       "      <th>cc_cons_jun</th>\n",
       "      <th>dc_cons_jun</th>\n",
       "      <th>cc_count_apr</th>\n",
       "      <th>cc_count_may</th>\n",
       "      <th>cc_count_jun</th>\n",
       "      <th>...</th>\n",
       "      <th>credit_count_may</th>\n",
       "      <th>debit_count_may</th>\n",
       "      <th>max_credit_amount_may</th>\n",
       "      <th>debit_amount_jun</th>\n",
       "      <th>credit_amount_jun</th>\n",
       "      <th>credit_count_jun</th>\n",
       "      <th>debit_count_jun</th>\n",
       "      <th>max_credit_amount_jun</th>\n",
       "      <th>loan_enq</th>\n",
       "      <th>emi_active</th>\n",
       "    </tr>\n",
       "  </thead>\n",
       "  <tbody>\n",
       "    <tr>\n",
       "      <th>0</th>\n",
       "      <td>17051</td>\n",
       "      <td>2017.46</td>\n",
       "      <td>29066.66</td>\n",
       "      <td>15919.84</td>\n",
       "      <td>2197.00</td>\n",
       "      <td>3752.00</td>\n",
       "      <td>29798.00</td>\n",
       "      <td>1.0</td>\n",
       "      <td>4</td>\n",
       "      <td>35</td>\n",
       "      <td>...</td>\n",
       "      <td>47</td>\n",
       "      <td>20</td>\n",
       "      <td>41860.0</td>\n",
       "      <td>32734.75</td>\n",
       "      <td>80959.0</td>\n",
       "      <td>36</td>\n",
       "      <td>9</td>\n",
       "      <td>171200.0</td>\n",
       "      <td>Y</td>\n",
       "      <td>3448.84</td>\n",
       "    </tr>\n",
       "    <tr>\n",
       "      <th>1</th>\n",
       "      <td>11491</td>\n",
       "      <td>7687.00</td>\n",
       "      <td>1308.00</td>\n",
       "      <td>41888.92</td>\n",
       "      <td>2216.92</td>\n",
       "      <td>7060.53</td>\n",
       "      <td>3143.36</td>\n",
       "      <td>2.0</td>\n",
       "      <td>27</td>\n",
       "      <td>50</td>\n",
       "      <td>...</td>\n",
       "      <td>0</td>\n",
       "      <td>8</td>\n",
       "      <td>113367.0</td>\n",
       "      <td>60974.75</td>\n",
       "      <td>495080.0</td>\n",
       "      <td>5</td>\n",
       "      <td>3</td>\n",
       "      <td>15694.0</td>\n",
       "      <td>Y</td>\n",
       "      <td>3812.69</td>\n",
       "    </tr>\n",
       "  </tbody>\n",
       "</table>\n",
       "<p>2 rows × 39 columns</p>\n",
       "</div>"
      ],
      "text/plain": [
       "      ID  cc_cons_apr  dc_cons_apr  cc_cons_may  dc_cons_may  cc_cons_jun  \\\n",
       "0  17051      2017.46     29066.66     15919.84      2197.00      3752.00   \n",
       "1  11491      7687.00      1308.00     41888.92      2216.92      7060.53   \n",
       "\n",
       "   dc_cons_jun  cc_count_apr  cc_count_may  cc_count_jun  ...  \\\n",
       "0     29798.00           1.0             4            35  ...   \n",
       "1      3143.36           2.0            27            50  ...   \n",
       "\n",
       "   credit_count_may  debit_count_may  max_credit_amount_may  debit_amount_jun  \\\n",
       "0                47               20                41860.0          32734.75   \n",
       "1                 0                8               113367.0          60974.75   \n",
       "\n",
       "   credit_amount_jun  credit_count_jun  debit_count_jun  \\\n",
       "0            80959.0                36                9   \n",
       "1           495080.0                 5                3   \n",
       "\n",
       "   max_credit_amount_jun  loan_enq  emi_active  \n",
       "0               171200.0         Y     3448.84  \n",
       "1                15694.0         Y     3812.69  \n",
       "\n",
       "[2 rows x 39 columns]"
      ]
     },
     "execution_count": 14,
     "metadata": {},
     "output_type": "execute_result"
    }
   ],
   "source": [
    "CustomerBehavior.head(2)"
   ]
  },
  {
   "cell_type": "code",
   "execution_count": 18,
   "id": "c2188630-bae1-401d-b48a-14899e6caa8f",
   "metadata": {},
   "outputs": [
    {
     "data": {
      "text/html": [
       "<div>\n",
       "<style scoped>\n",
       "    .dataframe tbody tr th:only-of-type {\n",
       "        vertical-align: middle;\n",
       "    }\n",
       "\n",
       "    .dataframe tbody tr th {\n",
       "        vertical-align: top;\n",
       "    }\n",
       "\n",
       "    .dataframe thead th {\n",
       "        text-align: right;\n",
       "    }\n",
       "</style>\n",
       "<table border=\"1\" class=\"dataframe\">\n",
       "  <thead>\n",
       "    <tr style=\"text-align: right;\">\n",
       "      <th></th>\n",
       "      <th>ID</th>\n",
       "      <th>cc_cons</th>\n",
       "    </tr>\n",
       "  </thead>\n",
       "  <tbody>\n",
       "    <tr>\n",
       "      <th>0</th>\n",
       "      <td>17051</td>\n",
       "      <td>16239.0</td>\n",
       "    </tr>\n",
       "    <tr>\n",
       "      <th>1</th>\n",
       "      <td>11491</td>\n",
       "      <td>39002.0</td>\n",
       "    </tr>\n",
       "  </tbody>\n",
       "</table>\n",
       "</div>"
      ],
      "text/plain": [
       "      ID  cc_cons\n",
       "0  17051  16239.0\n",
       "1  11491  39002.0"
      ]
     },
     "execution_count": 18,
     "metadata": {},
     "output_type": "execute_result"
    }
   ],
   "source": [
    "CreditConsumption.head(2)"
   ]
  },
  {
   "cell_type": "markdown",
   "id": "5dc4b7f5-d747-4061-a58a-296a13e07309",
   "metadata": {},
   "source": [
    "#### Understanding Data"
   ]
  },
  {
   "cell_type": "code",
   "execution_count": 20,
   "id": "53ae8f9f-7fda-465d-b857-4f2b91d5f406",
   "metadata": {},
   "outputs": [
    {
     "name": "stdout",
     "output_type": "stream",
     "text": [
      "<class 'pandas.core.frame.DataFrame'>\n",
      "RangeIndex: 20000 entries, 0 to 19999\n",
      "Data columns (total 2 columns):\n",
      " #   Column   Non-Null Count  Dtype  \n",
      "---  ------   --------------  -----  \n",
      " 0   ID       20000 non-null  int64  \n",
      " 1   cc_cons  15000 non-null  float64\n",
      "dtypes: float64(1), int64(1)\n",
      "memory usage: 312.6 KB\n"
     ]
    }
   ],
   "source": [
    "CreditConsumption.info()"
   ]
  },
  {
   "cell_type": "code",
   "execution_count": 22,
   "id": "fbaf99d2-7ac9-47e9-aca4-a69a36eb69e1",
   "metadata": {},
   "outputs": [
    {
     "data": {
      "text/html": [
       "<div>\n",
       "<style scoped>\n",
       "    .dataframe tbody tr th:only-of-type {\n",
       "        vertical-align: middle;\n",
       "    }\n",
       "\n",
       "    .dataframe tbody tr th {\n",
       "        vertical-align: top;\n",
       "    }\n",
       "\n",
       "    .dataframe thead th {\n",
       "        text-align: right;\n",
       "    }\n",
       "</style>\n",
       "<table border=\"1\" class=\"dataframe\">\n",
       "  <thead>\n",
       "    <tr style=\"text-align: right;\">\n",
       "      <th></th>\n",
       "      <th>ID</th>\n",
       "      <th>cc_cons</th>\n",
       "    </tr>\n",
       "  </thead>\n",
       "  <tbody>\n",
       "    <tr>\n",
       "      <th>19995</th>\n",
       "      <td>12512</td>\n",
       "      <td>NaN</td>\n",
       "    </tr>\n",
       "    <tr>\n",
       "      <th>19996</th>\n",
       "      <td>14224</td>\n",
       "      <td>NaN</td>\n",
       "    </tr>\n",
       "    <tr>\n",
       "      <th>19997</th>\n",
       "      <td>18740</td>\n",
       "      <td>NaN</td>\n",
       "    </tr>\n",
       "    <tr>\n",
       "      <th>19998</th>\n",
       "      <td>18134</td>\n",
       "      <td>NaN</td>\n",
       "    </tr>\n",
       "    <tr>\n",
       "      <th>19999</th>\n",
       "      <td>12413</td>\n",
       "      <td>NaN</td>\n",
       "    </tr>\n",
       "  </tbody>\n",
       "</table>\n",
       "</div>"
      ],
      "text/plain": [
       "          ID  cc_cons\n",
       "19995  12512      NaN\n",
       "19996  14224      NaN\n",
       "19997  18740      NaN\n",
       "19998  18134      NaN\n",
       "19999  12413      NaN"
      ]
     },
     "execution_count": 22,
     "metadata": {},
     "output_type": "execute_result"
    }
   ],
   "source": [
    "CreditConsumption.tail()"
   ]
  },
  {
   "cell_type": "code",
   "execution_count": 25,
   "id": "051957eb-9e9b-454b-8268-b03e869b23fc",
   "metadata": {},
   "outputs": [
    {
     "name": "stdout",
     "output_type": "stream",
     "text": [
      "<class 'pandas.core.frame.DataFrame'>\n",
      "RangeIndex: 20000 entries, 0 to 19999\n",
      "Data columns (total 39 columns):\n",
      " #   Column                 Non-Null Count  Dtype  \n",
      "---  ------                 --------------  -----  \n",
      " 0   ID                     20000 non-null  int64  \n",
      " 1   cc_cons_apr            20000 non-null  float64\n",
      " 2   dc_cons_apr            20000 non-null  float64\n",
      " 3   cc_cons_may            19999 non-null  float64\n",
      " 4   dc_cons_may            19999 non-null  float64\n",
      " 5   cc_cons_jun            20000 non-null  float64\n",
      " 6   dc_cons_jun            19999 non-null  float64\n",
      " 7   cc_count_apr           19999 non-null  float64\n",
      " 8   cc_count_may           20000 non-null  int64  \n",
      " 9   cc_count_jun           20000 non-null  int64  \n",
      " 10  dc_count_apr           20000 non-null  int64  \n",
      " 11  dc_count_may           20000 non-null  int64  \n",
      " 12  dc_count_jun           20000 non-null  int64  \n",
      " 13  card_lim               20000 non-null  int64  \n",
      " 14  personal_loan_active   20000 non-null  int64  \n",
      " 15  vehicle_loan_active    20000 non-null  int64  \n",
      " 16  personal_loan_closed   19999 non-null  float64\n",
      " 17  vehicle_loan_closed    20000 non-null  int64  \n",
      " 18  investment_1           20000 non-null  float64\n",
      " 19  investment_2           20000 non-null  float64\n",
      " 20  investment_3           19998 non-null  float64\n",
      " 21  investment_4           20000 non-null  float64\n",
      " 22  debit_amount_apr       20000 non-null  float64\n",
      " 23  credit_amount_apr      20000 non-null  float64\n",
      " 24  debit_count_apr        19999 non-null  float64\n",
      " 25  credit_count_apr       20000 non-null  int64  \n",
      " 26  max_credit_amount_apr  20000 non-null  float64\n",
      " 27  debit_amount_may       20000 non-null  float64\n",
      " 28  credit_amount_may      20000 non-null  float64\n",
      " 29  credit_count_may       20000 non-null  int64  \n",
      " 30  debit_count_may        20000 non-null  int64  \n",
      " 31  max_credit_amount_may  20000 non-null  float64\n",
      " 32  debit_amount_jun       20000 non-null  float64\n",
      " 33  credit_amount_jun      20000 non-null  float64\n",
      " 34  credit_count_jun       20000 non-null  int64  \n",
      " 35  debit_count_jun        20000 non-null  int64  \n",
      " 36  max_credit_amount_jun  20000 non-null  float64\n",
      " 37  loan_enq               19998 non-null  object \n",
      " 38  emi_active             19999 non-null  float64\n",
      "dtypes: float64(23), int64(15), object(1)\n",
      "memory usage: 6.0+ MB\n"
     ]
    }
   ],
   "source": [
    "CustomerBehavior.info()"
   ]
  },
  {
   "cell_type": "markdown",
   "id": "41073b42-eadd-44c2-ab57-d879fee0eda5",
   "metadata": {},
   "source": [
    "#### Checking for Null Values"
   ]
  },
  {
   "cell_type": "code",
   "execution_count": 42,
   "id": "5a25afb5-3939-4a5c-ba02-fda117b48dea",
   "metadata": {},
   "outputs": [
    {
     "name": "stdout",
     "output_type": "stream",
     "text": [
      "Missing values in customer\n",
      " ID                              0\n",
      "account_type                    0\n",
      "gender                          0\n",
      "age                             0\n",
      "Income                          0\n",
      "Emp_Tenure_Years                0\n",
      "Tenure_with_Bank                0\n",
      "region_code                     0\n",
      "NetBanking_Flag                 0\n",
      "Avg_days_between_transaction    0\n",
      "dtype: int64\n",
      "Missing values in CustomerBehavior\n",
      " ID                       0\n",
      "cc_cons_apr              0\n",
      "dc_cons_apr              0\n",
      "cc_cons_may              1\n",
      "dc_cons_may              1\n",
      "cc_cons_jun              0\n",
      "dc_cons_jun              1\n",
      "cc_count_apr             1\n",
      "cc_count_may             0\n",
      "cc_count_jun             0\n",
      "dc_count_apr             0\n",
      "dc_count_may             0\n",
      "dc_count_jun             0\n",
      "card_lim                 0\n",
      "personal_loan_active     0\n",
      "vehicle_loan_active      0\n",
      "personal_loan_closed     1\n",
      "vehicle_loan_closed      0\n",
      "investment_1             0\n",
      "investment_2             0\n",
      "investment_3             2\n",
      "investment_4             0\n",
      "debit_amount_apr         0\n",
      "credit_amount_apr        0\n",
      "debit_count_apr          1\n",
      "credit_count_apr         0\n",
      "max_credit_amount_apr    0\n",
      "debit_amount_may         0\n",
      "credit_amount_may        0\n",
      "credit_count_may         0\n",
      "debit_count_may          0\n",
      "max_credit_amount_may    0\n",
      "debit_amount_jun         0\n",
      "credit_amount_jun        0\n",
      "credit_count_jun         0\n",
      "debit_count_jun          0\n",
      "max_credit_amount_jun    0\n",
      "loan_enq                 2\n",
      "emi_active               1\n",
      "dtype: int64\n",
      "Missing values in CreditConsumption\n",
      " ID            0\n",
      "cc_cons    5000\n",
      "dtype: int64\n"
     ]
    }
   ],
   "source": [
    "print('Missing values in customer\\n',customer.isnull().sum())\n",
    "print('Missing values in CustomerBehavior\\n',CustomerBehavior.isnull().sum())\n",
    "print('Missing values in CreditConsumption\\n',CreditConsumption.isnull().sum())"
   ]
  },
  {
   "cell_type": "code",
   "execution_count": 44,
   "id": "d0b5dc9f-1bda-4c21-b613-506acfdc4b7f",
   "metadata": {},
   "outputs": [],
   "source": [
    "CustomerBehavior.dropna(inplace=True)"
   ]
  },
  {
   "cell_type": "markdown",
   "id": "3dd4e747-d03f-415a-8e00-a021768eed0c",
   "metadata": {},
   "source": [
    "#### Preparing the Dataset"
   ]
  },
  {
   "cell_type": "code",
   "execution_count": 53,
   "id": "bf13ddb5-706a-4810-9ee5-c1a80cb760aa",
   "metadata": {},
   "outputs": [],
   "source": [
    "merged_df = CustomerBehavior.merge(customer,how='left',on='ID')"
   ]
  },
  {
   "cell_type": "code",
   "execution_count": 57,
   "id": "ca77a49a-ce75-4661-91f7-f6d996383f41",
   "metadata": {},
   "outputs": [],
   "source": [
    "merged_df = merged_df.merge(CreditConsumption,how='left',on='ID')"
   ]
  },
  {
   "cell_type": "code",
   "execution_count": 61,
   "id": "3d8bd9d3-4ab8-40c1-b51e-d5f4e1d0aa31",
   "metadata": {},
   "outputs": [
    {
     "data": {
      "text/plain": [
       "(19991, 49)"
      ]
     },
     "execution_count": 61,
     "metadata": {},
     "output_type": "execute_result"
    }
   ],
   "source": [
    "merged_df.shape"
   ]
  },
  {
   "cell_type": "markdown",
   "id": "e102c631-4a0d-415b-bc62-c38cc8d3387b",
   "metadata": {},
   "source": [
    "Note: Some customers are having missing values for credit consumption. You need to build\n",
    "the model using customer’s data where credit consumption is non- missing’s. You need to\n",
    "predict the credit consumption for next three months for the customers having missing\n",
    "values."
   ]
  },
  {
   "cell_type": "code",
   "execution_count": 65,
   "id": "17c0cdfd-4346-42aa-8f6b-82a7cdd7c1d9",
   "metadata": {},
   "outputs": [],
   "source": [
    "test_df = merged_df[merged_df['cc_cons'].isnull()]"
   ]
  },
  {
   "cell_type": "code",
   "execution_count": 71,
   "id": "b8d62f62-4819-4f30-94a8-9b5f898dadde",
   "metadata": {},
   "outputs": [],
   "source": [
    "test_df.to_csv('testttttt.csv',index=False)"
   ]
  },
  {
   "cell_type": "code",
   "execution_count": 74,
   "id": "2decdfc2-d6e0-4931-ba15-69c07f177eaf",
   "metadata": {},
   "outputs": [],
   "source": [
    "train_df = merged_df[~merged_df['cc_cons'].isnull()]"
   ]
  },
  {
   "cell_type": "code",
   "execution_count": 76,
   "id": "673a7973-ecc0-4e15-bd38-d6bb6cc91a2c",
   "metadata": {},
   "outputs": [
    {
     "data": {
      "text/plain": [
       "((14993, 49), (4998, 49))"
      ]
     },
     "execution_count": 76,
     "metadata": {},
     "output_type": "execute_result"
    }
   ],
   "source": [
    "train_df.shape,test_df.shape"
   ]
  },
  {
   "cell_type": "markdown",
   "id": "dbfdefd8-ae7a-4156-a341-25cda138077c",
   "metadata": {},
   "source": [
    "#### Exploratory Data Analysis"
   ]
  },
  {
   "cell_type": "code",
   "execution_count": 79,
   "id": "849fe354-aead-4929-a395-78bd3266b908",
   "metadata": {},
   "outputs": [
    {
     "data": {
      "text/html": [
       "<div>\n",
       "<style scoped>\n",
       "    .dataframe tbody tr th:only-of-type {\n",
       "        vertical-align: middle;\n",
       "    }\n",
       "\n",
       "    .dataframe tbody tr th {\n",
       "        vertical-align: top;\n",
       "    }\n",
       "\n",
       "    .dataframe thead th {\n",
       "        text-align: right;\n",
       "    }\n",
       "</style>\n",
       "<table border=\"1\" class=\"dataframe\">\n",
       "  <thead>\n",
       "    <tr style=\"text-align: right;\">\n",
       "      <th></th>\n",
       "      <th>ID</th>\n",
       "      <th>cc_cons_apr</th>\n",
       "      <th>dc_cons_apr</th>\n",
       "      <th>cc_cons_may</th>\n",
       "      <th>dc_cons_may</th>\n",
       "      <th>cc_cons_jun</th>\n",
       "      <th>dc_cons_jun</th>\n",
       "      <th>cc_count_apr</th>\n",
       "      <th>cc_count_may</th>\n",
       "      <th>cc_count_jun</th>\n",
       "      <th>...</th>\n",
       "      <th>debit_count_jun</th>\n",
       "      <th>max_credit_amount_jun</th>\n",
       "      <th>emi_active</th>\n",
       "      <th>age</th>\n",
       "      <th>Emp_Tenure_Years</th>\n",
       "      <th>Tenure_with_Bank</th>\n",
       "      <th>region_code</th>\n",
       "      <th>NetBanking_Flag</th>\n",
       "      <th>Avg_days_between_transaction</th>\n",
       "      <th>cc_cons</th>\n",
       "    </tr>\n",
       "  </thead>\n",
       "  <tbody>\n",
       "    <tr>\n",
       "      <th>count</th>\n",
       "      <td>14993.000000</td>\n",
       "      <td>14993.000000</td>\n",
       "      <td>14993.000000</td>\n",
       "      <td>1.499300e+04</td>\n",
       "      <td>14993.000000</td>\n",
       "      <td>14993.000000</td>\n",
       "      <td>14993.000000</td>\n",
       "      <td>14993.000000</td>\n",
       "      <td>14993.00000</td>\n",
       "      <td>14993.000000</td>\n",
       "      <td>...</td>\n",
       "      <td>14993.000000</td>\n",
       "      <td>1.499300e+04</td>\n",
       "      <td>1.499300e+04</td>\n",
       "      <td>14993.000000</td>\n",
       "      <td>14993.000000</td>\n",
       "      <td>14993.000000</td>\n",
       "      <td>14993.000000</td>\n",
       "      <td>14993.000000</td>\n",
       "      <td>14993.000000</td>\n",
       "      <td>14993.000000</td>\n",
       "    </tr>\n",
       "    <tr>\n",
       "      <th>mean</th>\n",
       "      <td>10032.206230</td>\n",
       "      <td>17961.834649</td>\n",
       "      <td>8168.237205</td>\n",
       "      <td>1.633949e+04</td>\n",
       "      <td>7704.676979</td>\n",
       "      <td>12129.386670</td>\n",
       "      <td>7099.351901</td>\n",
       "      <td>41.500700</td>\n",
       "      <td>33.48516</td>\n",
       "      <td>41.506103</td>\n",
       "      <td>...</td>\n",
       "      <td>44.647969</td>\n",
       "      <td>5.257668e+04</td>\n",
       "      <td>1.575568e+04</td>\n",
       "      <td>47.766624</td>\n",
       "      <td>15.185073</td>\n",
       "      <td>5.510438</td>\n",
       "      <td>5.510438</td>\n",
       "      <td>598.397385</td>\n",
       "      <td>0.719602</td>\n",
       "      <td>9369.569257</td>\n",
       "    </tr>\n",
       "    <tr>\n",
       "      <th>std</th>\n",
       "      <td>5761.048272</td>\n",
       "      <td>25192.717712</td>\n",
       "      <td>14769.893627</td>\n",
       "      <td>2.706671e+04</td>\n",
       "      <td>18991.347323</td>\n",
       "      <td>18491.427033</td>\n",
       "      <td>13254.450825</td>\n",
       "      <td>97.453103</td>\n",
       "      <td>49.54702</td>\n",
       "      <td>47.350281</td>\n",
       "      <td>...</td>\n",
       "      <td>35.088853</td>\n",
       "      <td>1.282776e+05</td>\n",
       "      <td>1.179405e+05</td>\n",
       "      <td>30.573014</td>\n",
       "      <td>20.316444</td>\n",
       "      <td>2.866058</td>\n",
       "      <td>2.866058</td>\n",
       "      <td>220.085924</td>\n",
       "      <td>0.449208</td>\n",
       "      <td>7554.028948</td>\n",
       "    </tr>\n",
       "    <tr>\n",
       "      <th>min</th>\n",
       "      <td>1.000000</td>\n",
       "      <td>253.000000</td>\n",
       "      <td>19.350000</td>\n",
       "      <td>1.570000e+02</td>\n",
       "      <td>22.000000</td>\n",
       "      <td>65.000000</td>\n",
       "      <td>62.000000</td>\n",
       "      <td>1.000000</td>\n",
       "      <td>1.00000</td>\n",
       "      <td>1.000000</td>\n",
       "      <td>...</td>\n",
       "      <td>0.000000</td>\n",
       "      <td>6.000000e-02</td>\n",
       "      <td>0.000000e+00</td>\n",
       "      <td>25.000000</td>\n",
       "      <td>0.500000</td>\n",
       "      <td>1.000000</td>\n",
       "      <td>1.000000</td>\n",
       "      <td>123.000000</td>\n",
       "      <td>0.000000</td>\n",
       "      <td>610.099000</td>\n",
       "    </tr>\n",
       "    <tr>\n",
       "      <th>25%</th>\n",
       "      <td>5059.000000</td>\n",
       "      <td>4411.220000</td>\n",
       "      <td>1634.000000</td>\n",
       "      <td>3.638000e+03</td>\n",
       "      <td>1643.500000</td>\n",
       "      <td>3004.500000</td>\n",
       "      <td>1358.000000</td>\n",
       "      <td>5.000000</td>\n",
       "      <td>8.00000</td>\n",
       "      <td>10.000000</td>\n",
       "      <td>...</td>\n",
       "      <td>12.000000</td>\n",
       "      <td>1.903800e+04</td>\n",
       "      <td>1.548510e+03</td>\n",
       "      <td>33.000000</td>\n",
       "      <td>5.100000</td>\n",
       "      <td>3.000000</td>\n",
       "      <td>3.000000</td>\n",
       "      <td>424.000000</td>\n",
       "      <td>0.000000</td>\n",
       "      <td>4808.670000</td>\n",
       "    </tr>\n",
       "    <tr>\n",
       "      <th>50%</th>\n",
       "      <td>10053.000000</td>\n",
       "      <td>10288.100000</td>\n",
       "      <td>3994.800000</td>\n",
       "      <td>8.690170e+03</td>\n",
       "      <td>3820.000000</td>\n",
       "      <td>6655.250000</td>\n",
       "      <td>3327.000000</td>\n",
       "      <td>10.000000</td>\n",
       "      <td>23.00000</td>\n",
       "      <td>35.000000</td>\n",
       "      <td>...</td>\n",
       "      <td>38.000000</td>\n",
       "      <td>3.042500e+04</td>\n",
       "      <td>3.953580e+03</td>\n",
       "      <td>40.000000</td>\n",
       "      <td>9.900000</td>\n",
       "      <td>6.000000</td>\n",
       "      <td>6.000000</td>\n",
       "      <td>623.000000</td>\n",
       "      <td>1.000000</td>\n",
       "      <td>7409.948800</td>\n",
       "    </tr>\n",
       "    <tr>\n",
       "      <th>75%</th>\n",
       "      <td>15016.000000</td>\n",
       "      <td>21410.250000</td>\n",
       "      <td>9339.020000</td>\n",
       "      <td>1.895130e+04</td>\n",
       "      <td>8212.000000</td>\n",
       "      <td>14247.000000</td>\n",
       "      <td>7597.000000</td>\n",
       "      <td>44.000000</td>\n",
       "      <td>43.00000</td>\n",
       "      <td>61.000000</td>\n",
       "      <td>...</td>\n",
       "      <td>73.000000</td>\n",
       "      <td>5.320200e+04</td>\n",
       "      <td>9.372410e+03</td>\n",
       "      <td>53.000000</td>\n",
       "      <td>18.000000</td>\n",
       "      <td>8.000000</td>\n",
       "      <td>8.000000</td>\n",
       "      <td>799.000000</td>\n",
       "      <td>1.000000</td>\n",
       "      <td>11518.657600</td>\n",
       "    </tr>\n",
       "    <tr>\n",
       "      <th>max</th>\n",
       "      <td>19998.000000</td>\n",
       "      <td>441031.330000</td>\n",
       "      <td>229255.000000</td>\n",
       "      <td>1.117246e+06</td>\n",
       "      <td>911223.490000</td>\n",
       "      <td>382914.100000</td>\n",
       "      <td>233384.000000</td>\n",
       "      <td>531.000000</td>\n",
       "      <td>601.00000</td>\n",
       "      <td>653.000000</td>\n",
       "      <td>...</td>\n",
       "      <td>133.000000</td>\n",
       "      <td>5.200000e+06</td>\n",
       "      <td>7.447125e+06</td>\n",
       "      <td>223.000000</td>\n",
       "      <td>203.000000</td>\n",
       "      <td>10.000000</td>\n",
       "      <td>10.000000</td>\n",
       "      <td>974.000000</td>\n",
       "      <td>1.000000</td>\n",
       "      <td>160735.934800</td>\n",
       "    </tr>\n",
       "  </tbody>\n",
       "</table>\n",
       "<p>8 rows × 45 columns</p>\n",
       "</div>"
      ],
      "text/plain": [
       "                 ID    cc_cons_apr    dc_cons_apr   cc_cons_may  \\\n",
       "count  14993.000000   14993.000000   14993.000000  1.499300e+04   \n",
       "mean   10032.206230   17961.834649    8168.237205  1.633949e+04   \n",
       "std     5761.048272   25192.717712   14769.893627  2.706671e+04   \n",
       "min        1.000000     253.000000      19.350000  1.570000e+02   \n",
       "25%     5059.000000    4411.220000    1634.000000  3.638000e+03   \n",
       "50%    10053.000000   10288.100000    3994.800000  8.690170e+03   \n",
       "75%    15016.000000   21410.250000    9339.020000  1.895130e+04   \n",
       "max    19998.000000  441031.330000  229255.000000  1.117246e+06   \n",
       "\n",
       "         dc_cons_may    cc_cons_jun    dc_cons_jun  cc_count_apr  \\\n",
       "count   14993.000000   14993.000000   14993.000000  14993.000000   \n",
       "mean     7704.676979   12129.386670    7099.351901     41.500700   \n",
       "std     18991.347323   18491.427033   13254.450825     97.453103   \n",
       "min        22.000000      65.000000      62.000000      1.000000   \n",
       "25%      1643.500000    3004.500000    1358.000000      5.000000   \n",
       "50%      3820.000000    6655.250000    3327.000000     10.000000   \n",
       "75%      8212.000000   14247.000000    7597.000000     44.000000   \n",
       "max    911223.490000  382914.100000  233384.000000    531.000000   \n",
       "\n",
       "       cc_count_may  cc_count_jun  ...  debit_count_jun  \\\n",
       "count   14993.00000  14993.000000  ...     14993.000000   \n",
       "mean       33.48516     41.506103  ...        44.647969   \n",
       "std        49.54702     47.350281  ...        35.088853   \n",
       "min         1.00000      1.000000  ...         0.000000   \n",
       "25%         8.00000     10.000000  ...        12.000000   \n",
       "50%        23.00000     35.000000  ...        38.000000   \n",
       "75%        43.00000     61.000000  ...        73.000000   \n",
       "max       601.00000    653.000000  ...       133.000000   \n",
       "\n",
       "       max_credit_amount_jun    emi_active           age  Emp_Tenure_Years  \\\n",
       "count           1.499300e+04  1.499300e+04  14993.000000      14993.000000   \n",
       "mean            5.257668e+04  1.575568e+04     47.766624         15.185073   \n",
       "std             1.282776e+05  1.179405e+05     30.573014         20.316444   \n",
       "min             6.000000e-02  0.000000e+00     25.000000          0.500000   \n",
       "25%             1.903800e+04  1.548510e+03     33.000000          5.100000   \n",
       "50%             3.042500e+04  3.953580e+03     40.000000          9.900000   \n",
       "75%             5.320200e+04  9.372410e+03     53.000000         18.000000   \n",
       "max             5.200000e+06  7.447125e+06    223.000000        203.000000   \n",
       "\n",
       "       Tenure_with_Bank   region_code  NetBanking_Flag  \\\n",
       "count      14993.000000  14993.000000     14993.000000   \n",
       "mean           5.510438      5.510438       598.397385   \n",
       "std            2.866058      2.866058       220.085924   \n",
       "min            1.000000      1.000000       123.000000   \n",
       "25%            3.000000      3.000000       424.000000   \n",
       "50%            6.000000      6.000000       623.000000   \n",
       "75%            8.000000      8.000000       799.000000   \n",
       "max           10.000000     10.000000       974.000000   \n",
       "\n",
       "       Avg_days_between_transaction        cc_cons  \n",
       "count                  14993.000000   14993.000000  \n",
       "mean                       0.719602    9369.569257  \n",
       "std                        0.449208    7554.028948  \n",
       "min                        0.000000     610.099000  \n",
       "25%                        0.000000    4808.670000  \n",
       "50%                        1.000000    7409.948800  \n",
       "75%                        1.000000   11518.657600  \n",
       "max                        1.000000  160735.934800  \n",
       "\n",
       "[8 rows x 45 columns]"
      ]
     },
     "execution_count": 79,
     "metadata": {},
     "output_type": "execute_result"
    }
   ],
   "source": [
    "train_df.describe()"
   ]
  },
  {
   "cell_type": "code",
   "execution_count": 87,
   "id": "84ba514c-7956-4dbd-bbbe-9cb45585c58d",
   "metadata": {},
   "outputs": [
    {
     "data": {
      "image/png": "[encoded data removed]",
      "text/plain": [
       "<Figure size 640x480 with 1 Axes>"
      ]
     },
     "metadata": {},
     "output_type": "display_data"
    }
   ],
   "source": [
    "sns.histplot(train_df['cc_cons'],bins=30,kde=True)\n",
    "plt.show()"
   ]
  },
  {
   "cell_type": "markdown",
   "id": "acc89b7e-5ef4-4e71-bb01-2c7aadfb0e04",
   "metadata": {},
   "source": [
    "Correlation Check"
   ]
  },
  {
   "cell_type": "code",
   "execution_count": 92,
   "id": "0015a945-b4e1-4d84-880b-2367e68adb8a",
   "metadata": {},
   "outputs": [],
   "source": [
    "corr_mat = train_df.select_dtypes('number').corr()"
   ]
  },
  {
   "cell_type": "code",
   "execution_count": 100,
   "id": "58c55a48-6788-4dc6-b615-07003f7059ab",
   "metadata": {},
   "outputs": [
    {
     "data": {
      "image/png": "[encoded data removed]",
      "text/plain": [
       "<Figure size 640x480 with 2 Axes>"
      ]
     },
     "metadata": {},
     "output_type": "display_data"
    }
   ],
   "source": [
    "sns.heatmap(corr_mat)\n",
    "plt.show()"
   ]
  },
  {
   "cell_type": "markdown",
   "id": "e21161c7-5d28-49b7-b569-329fde7407a6",
   "metadata": {},
   "source": [
    "#### Handling Categorical Values"
   ]
  },
  {
   "cell_type": "code",
   "execution_count": 103,
   "id": "db431bab-2c83-458c-ae78-09bbff6757a3",
   "metadata": {},
   "outputs": [],
   "source": [
    "from sklearn.preprocessing import LabelEncoder"
   ]
  },
  {
   "cell_type": "code",
   "execution_count": 119,
   "id": "d5ea33c3-b763-4ce5-b4bf-332008acc7c8",
   "metadata": {},
   "outputs": [],
   "source": [
    "cat_col = ['loan_enq', 'account_type', 'gender', 'Income']"
   ]
  },
  {
   "cell_type": "code",
   "execution_count": 117,
   "id": "25e9c00f-96dd-458b-9f22-f7ce6b3b9260",
   "metadata": {},
   "outputs": [],
   "source": [
    "for col in cat_col:\n",
    "    train_df[col] = train_df[col].astype('str')"
   ]
  },
  {
   "cell_type": "code",
   "execution_count": 121,
   "id": "de8bb1bb-c3d2-4ae1-b5b2-ec1a0876860a",
   "metadata": {},
   "outputs": [
    {
     "name": "stdout",
     "output_type": "stream",
     "text": [
      "{'Y': 0, 'current': 0, 'saving': 1, 'F': 0, 'M': 1, 'HIGH': 0, 'LOW': 1, 'MEDIUM': 2}\n"
     ]
    }
   ],
   "source": [
    "le = LabelEncoder()\n",
    "mapping_dict = {}\n",
    "for col in cat_col:\n",
    "    train_df[col] = le.fit_transform(train_df[col])\n",
    "    temp_dict = dict(zip(le.classes_,sorted(train_df[col].unique())))\n",
    "    mapping_dict.update(temp_dict)\n",
    "\n",
    "print(mapping_dict)"
   ]
  },
  {
   "cell_type": "code",
   "execution_count": 129,
   "id": "7dfef8a7-ff28-4134-81e2-31e24166a4f5",
   "metadata": {},
   "outputs": [],
   "source": [
    "mapping_df = pd.DataFrame(mapping_dict.items(),columns=['id','value'])"
   ]
  },
  {
   "cell_type": "code",
   "execution_count": 131,
   "id": "df2aec8c-d261-4130-85b4-8b4ad1828486",
   "metadata": {},
   "outputs": [],
   "source": [
    "mapping_df.to_csv('mapping_dict.csv',index=False)"
   ]
  },
  {
   "cell_type": "markdown",
   "id": "3fffa2aa-558c-4907-ae4a-9faded8e3a56",
   "metadata": {},
   "source": [
    "#### Standardization"
   ]
  },
  {
   "cell_type": "code",
   "execution_count": 134,
   "id": "b2421ed9-b02f-4ef7-9e37-431ed3cd701b",
   "metadata": {},
   "outputs": [],
   "source": [
    "from sklearn.preprocessing import StandardScaler"
   ]
  },
  {
   "cell_type": "code",
   "execution_count": 138,
   "id": "21278918-ea4c-439e-aca9-6a776794a765",
   "metadata": {},
   "outputs": [],
   "source": [
    "x = train_df.iloc[:,:-1]\n",
    "y = train_df.iloc[:,-1]"
   ]
  },
  {
   "cell_type": "code",
   "execution_count": 140,
   "id": "db32b185-eff0-4a90-b7b5-09992e492449",
   "metadata": {},
   "outputs": [],
   "source": [
    "ss = StandardScaler()\n",
    "x_ft = ss.fit_transform(x)\n",
    "x_ft = pd.DataFrame(x_ft)"
   ]
  },
  {
   "cell_type": "code",
   "execution_count": 144,
   "id": "5486a653-9ce0-46f2-99ab-106945f9626d",
   "metadata": {},
   "outputs": [
    {
     "data": {
      "text/html": [
       "<div>\n",
       "<style scoped>\n",
       "    .dataframe tbody tr th:only-of-type {\n",
       "        vertical-align: middle;\n",
       "    }\n",
       "\n",
       "    .dataframe tbody tr th {\n",
       "        vertical-align: top;\n",
       "    }\n",
       "\n",
       "    .dataframe thead th {\n",
       "        text-align: right;\n",
       "    }\n",
       "</style>\n",
       "<table border=\"1\" class=\"dataframe\">\n",
       "  <thead>\n",
       "    <tr style=\"text-align: right;\">\n",
       "      <th></th>\n",
       "      <th>0</th>\n",
       "      <th>1</th>\n",
       "      <th>2</th>\n",
       "      <th>3</th>\n",
       "      <th>4</th>\n",
       "      <th>5</th>\n",
       "      <th>6</th>\n",
       "      <th>7</th>\n",
       "      <th>8</th>\n",
       "      <th>9</th>\n",
       "      <th>...</th>\n",
       "      <th>38</th>\n",
       "      <th>39</th>\n",
       "      <th>40</th>\n",
       "      <th>41</th>\n",
       "      <th>42</th>\n",
       "      <th>43</th>\n",
       "      <th>44</th>\n",
       "      <th>45</th>\n",
       "      <th>46</th>\n",
       "      <th>47</th>\n",
       "    </tr>\n",
       "  </thead>\n",
       "  <tbody>\n",
       "    <tr>\n",
       "      <th>0</th>\n",
       "      <td>1.218359</td>\n",
       "      <td>-0.632917</td>\n",
       "      <td>1.414981</td>\n",
       "      <td>-0.015505</td>\n",
       "      <td>-0.290019</td>\n",
       "      <td>-0.453057</td>\n",
       "      <td>1.712587</td>\n",
       "      <td>-0.415606</td>\n",
       "      <td>-0.595114</td>\n",
       "      <td>-0.137408</td>\n",
       "      <td>...</td>\n",
       "      <td>-0.104351</td>\n",
       "      <td>-0.422723</td>\n",
       "      <td>0.39854</td>\n",
       "      <td>-0.581141</td>\n",
       "      <td>0.689085</td>\n",
       "      <td>0.552031</td>\n",
       "      <td>1.217588</td>\n",
       "      <td>1.217588</td>\n",
       "      <td>-1.105957</td>\n",
       "      <td>-1.601988</td>\n",
       "    </tr>\n",
       "    <tr>\n",
       "      <th>1</th>\n",
       "      <td>0.253225</td>\n",
       "      <td>-0.407863</td>\n",
       "      <td>-0.464490</td>\n",
       "      <td>0.943974</td>\n",
       "      <td>-0.288971</td>\n",
       "      <td>-0.274128</td>\n",
       "      <td>-0.298475</td>\n",
       "      <td>-0.405344</td>\n",
       "      <td>-0.130893</td>\n",
       "      <td>0.179390</td>\n",
       "      <td>...</td>\n",
       "      <td>-0.101266</td>\n",
       "      <td>-0.422723</td>\n",
       "      <td>0.39854</td>\n",
       "      <td>-0.352173</td>\n",
       "      <td>-0.879853</td>\n",
       "      <td>-0.038644</td>\n",
       "      <td>0.519742</td>\n",
       "      <td>0.519742</td>\n",
       "      <td>-0.515259</td>\n",
       "      <td>-1.601988</td>\n",
       "    </tr>\n",
       "    <tr>\n",
       "      <th>2</th>\n",
       "      <td>-0.451184</td>\n",
       "      <td>-0.351993</td>\n",
       "      <td>0.450777</td>\n",
       "      <td>-0.489616</td>\n",
       "      <td>-0.365183</td>\n",
       "      <td>0.728643</td>\n",
       "      <td>-0.426614</td>\n",
       "      <td>0.025647</td>\n",
       "      <td>-0.514380</td>\n",
       "      <td>0.116031</td>\n",
       "      <td>...</td>\n",
       "      <td>-0.053612</td>\n",
       "      <td>-0.422723</td>\n",
       "      <td>0.39854</td>\n",
       "      <td>-0.483011</td>\n",
       "      <td>0.689085</td>\n",
       "      <td>-0.589939</td>\n",
       "      <td>-1.573795</td>\n",
       "      <td>-1.573795</td>\n",
       "      <td>0.752470</td>\n",
       "      <td>-1.601988</td>\n",
       "    </tr>\n",
       "  </tbody>\n",
       "</table>\n",
       "<p>3 rows × 48 columns</p>\n",
       "</div>"
      ],
      "text/plain": [
       "         0         1         2         3         4         5         6   \\\n",
       "0  1.218359 -0.632917  1.414981 -0.015505 -0.290019 -0.453057  1.712587   \n",
       "1  0.253225 -0.407863 -0.464490  0.943974 -0.288971 -0.274128 -0.298475   \n",
       "2 -0.451184 -0.351993  0.450777 -0.489616 -0.365183  0.728643 -0.426614   \n",
       "\n",
       "         7         8         9   ...        38        39       40        41  \\\n",
       "0 -0.415606 -0.595114 -0.137408  ... -0.104351 -0.422723  0.39854 -0.581141   \n",
       "1 -0.405344 -0.130893  0.179390  ... -0.101266 -0.422723  0.39854 -0.352173   \n",
       "2  0.025647 -0.514380  0.116031  ... -0.053612 -0.422723  0.39854 -0.483011   \n",
       "\n",
       "         42        43        44        45        46        47  \n",
       "0  0.689085  0.552031  1.217588  1.217588 -1.105957 -1.601988  \n",
       "1 -0.879853 -0.038644  0.519742  0.519742 -0.515259 -1.601988  \n",
       "2  0.689085 -0.589939 -1.573795 -1.573795  0.752470 -1.601988  \n",
       "\n",
       "[3 rows x 48 columns]"
      ]
     },
     "execution_count": 144,
     "metadata": {},
     "output_type": "execute_result"
    }
   ],
   "source": [
    "x_ft.head(3)"
   ]
  },
  {
   "cell_type": "code",
   "execution_count": 223,
   "id": "42cb9131-a649-4d12-ac51-d4f02dde5c67",
   "metadata": {},
   "outputs": [],
   "source": [
    "import pickle\n",
    "with open('./standardscaler.pkl','wb') as file:\n",
    "    pickle.dump(ss,file)"
   ]
  },
  {
   "cell_type": "markdown",
   "id": "189383f2-2f5b-4573-8f3f-57b4e3f85e75",
   "metadata": {},
   "source": [
    "#### Train Test Split"
   ]
  },
  {
   "cell_type": "code",
   "execution_count": 149,
   "id": "3d13e506-8667-4d9e-a5a8-9c86cb2b32b0",
   "metadata": {},
   "outputs": [],
   "source": [
    "from sklearn.model_selection import train_test_split"
   ]
  },
  {
   "cell_type": "code",
   "execution_count": 153,
   "id": "462d187a-54ff-44cb-a0a8-8fbeaf4ffe05",
   "metadata": {},
   "outputs": [],
   "source": [
    "xtrain,xtest,ytrain,ytest = train_test_split(x_ft,y,test_size=0.20,random_state=64)"
   ]
  },
  {
   "cell_type": "code",
   "execution_count": 155,
   "id": "d794fba6-680a-4d3c-ba82-34142d9b6769",
   "metadata": {},
   "outputs": [
    {
     "data": {
      "text/plain": [
       "((11994, 48), (2999, 48), (11994,), (2999,))"
      ]
     },
     "execution_count": 155,
     "metadata": {},
     "output_type": "execute_result"
    }
   ],
   "source": [
    "xtrain.shape,xtest.shape,ytrain.shape,ytest.shape"
   ]
  },
  {
   "cell_type": "markdown",
   "id": "49d87ffa-b8d0-4a67-979c-212c41894f74",
   "metadata": {},
   "source": [
    "#### Model Selection"
   ]
  },
  {
   "cell_type": "markdown",
   "id": "556ee027-ee3a-4c77-b5e3-b63781b9cf0f",
   "metadata": {},
   "source": [
    "Linear Regression"
   ]
  },
  {
   "cell_type": "code",
   "execution_count": 164,
   "id": "237c957c-76ff-443f-b159-d142facd6516",
   "metadata": {},
   "outputs": [],
   "source": [
    "from sklearn.linear_model import LinearRegression\n",
    "from sklearn.metrics import mean_squared_error"
   ]
  },
  {
   "cell_type": "code",
   "execution_count": 162,
   "id": "f769713c-5203-48af-a5a9-133f65172a91",
   "metadata": {},
   "outputs": [],
   "source": [
    "lr = LinearRegression()\n",
    "lr.fit(xtrain,ytrain)\n",
    "pred_lr = lr.predict(xtest)"
   ]
  },
  {
   "cell_type": "code",
   "execution_count": 168,
   "id": "89022bd2-0c8f-47e6-a7c8-32229d398146",
   "metadata": {},
   "outputs": [],
   "source": [
    "def get_rms_percentage_error(pred,ytest):\n",
    "    mse = mean_squared_error(pred,ytest)\n",
    "    rmse = np.sqrt(mse)\n",
    "    rms_percentage_error = (rmse/np.mean(ytest))*100\n",
    "    print(' RMSE :',rmse,'\\n','rms_percentage_error :',rms_percentage_error)"
   ]
  },
  {
   "cell_type": "code",
   "execution_count": 170,
   "id": "2c170459-79dc-4258-b94d-7f71572d6ef5",
   "metadata": {},
   "outputs": [
    {
     "name": "stdout",
     "output_type": "stream",
     "text": [
      " RMSE : 2546.4375351141666 \n",
      " rms_percentage_error : 27.7552868278536\n"
     ]
    }
   ],
   "source": [
    "get_rms_percentage_error(pred_lr,ytest)"
   ]
  },
  {
   "cell_type": "code",
   "execution_count": 179,
   "id": "e17caa87-337b-4a22-a354-f7ee8806077b",
   "metadata": {},
   "outputs": [
    {
     "name": "stdout",
     "output_type": "stream",
     "text": [
      " RMSE : 2717.090159552083 \n",
      " rms_percentage_error : 28.848993278661776\n"
     ]
    }
   ],
   "source": [
    "pred_lr_train = lr.predict(xtrain)\n",
    "get_rms_percentage_error(pred_lr_train,ytrain)"
   ]
  },
  {
   "cell_type": "markdown",
   "id": "f71eef72-4f50-425a-bae5-bc6ec0356be6",
   "metadata": {},
   "source": [
    "Decision Tree Regressor"
   ]
  },
  {
   "cell_type": "code",
   "execution_count": 175,
   "id": "aef939c9-e5e4-475d-81f1-be290a1e7022",
   "metadata": {},
   "outputs": [],
   "source": [
    "from sklearn.tree import DecisionTreeRegressor"
   ]
  },
  {
   "cell_type": "code",
   "execution_count": 200,
   "id": "b5f4c548-9863-4a54-8349-75e25e385690",
   "metadata": {},
   "outputs": [
    {
     "name": "stdout",
     "output_type": "stream",
     "text": [
      " RMSE : 3927.8222202838874 \n",
      " rms_percentage_error : 42.811901265784776\n"
     ]
    }
   ],
   "source": [
    "dtr = DecisionTreeRegressor()\n",
    "dtr.fit(xtrain,ytrain)\n",
    "pred_dtr = dtr.predict(xtest)\n",
    "get_rms_percentage_error(pred_dtr,ytest)"
   ]
  },
  {
   "cell_type": "code",
   "execution_count": 183,
   "id": "1c65a036-1152-4c4d-8ef9-51cd692b5173",
   "metadata": {},
   "outputs": [
    {
     "name": "stdout",
     "output_type": "stream",
     "text": [
      " RMSE : 0.0 \n",
      " rms_percentage_error : 0.0\n"
     ]
    }
   ],
   "source": [
    "pred_dtr_train = dtr.predict(xtrain)\n",
    "get_rms_percentage_error(pred_dtr_train,ytrain)"
   ]
  },
  {
   "cell_type": "markdown",
   "id": "edcb1caf-cc8d-4dbd-8838-1d82e1c802a5",
   "metadata": {},
   "source": [
    "Random Forest Regressor"
   ]
  },
  {
   "cell_type": "code",
   "execution_count": 192,
   "id": "4f84c695-1ad8-4316-bf83-3b63a015b304",
   "metadata": {},
   "outputs": [],
   "source": [
    "from sklearn.ensemble import RandomForestRegressor"
   ]
  },
  {
   "cell_type": "code",
   "execution_count": 194,
   "id": "f31918c8-2d9f-489d-a2da-a56bbe038897",
   "metadata": {},
   "outputs": [
    {
     "name": "stdout",
     "output_type": "stream",
     "text": [
      " RMSE : 3106.957562419776 \n",
      " rms_percentage_error : 33.86476091315686\n"
     ]
    }
   ],
   "source": [
    "rgb = RandomForestRegressor()\n",
    "rgb.fit(xtrain,ytrain)\n",
    "pred_rgb = rgb.predict(xtest)\n",
    "get_rms_percentage_error(pred_rgb,ytest)"
   ]
  },
  {
   "cell_type": "code",
   "execution_count": 196,
   "id": "2b5810cb-6f60-4b6f-8148-d364d77b36b5",
   "metadata": {},
   "outputs": [
    {
     "name": "stdout",
     "output_type": "stream",
     "text": [
      " RMSE : 1216.2460680501808 \n",
      " rms_percentage_error : 12.913621772551966\n"
     ]
    }
   ],
   "source": [
    "pred_rgb_train = rgb.predict(xtrain)\n",
    "get_rms_percentage_error(pred_rgb_train,ytrain)"
   ]
  },
  {
   "cell_type": "markdown",
   "id": "8242f973-7253-426f-a728-b4e7dad1ebc5",
   "metadata": {},
   "source": [
    "Grid Search CV"
   ]
  },
  {
   "cell_type": "code",
   "execution_count": 203,
   "id": "173d499a-de10-4a56-8bd0-62d0b9653bc7",
   "metadata": {},
   "outputs": [],
   "source": [
    "from sklearn.model_selection import GridSearchCV"
   ]
  },
  {
   "cell_type": "code",
   "execution_count": 207,
   "id": "2f98c4df-a6c6-4723-af42-d1ceb29c3c6f",
   "metadata": {},
   "outputs": [],
   "source": [
    "params = {'max_depth':[2,3,4,5],\n",
    "          'min_samples_split':[20,30,40,50]}"
   ]
  },
  {
   "cell_type": "code",
   "execution_count": 209,
   "id": "7feb54c4-dd56-49da-9179-38e7dff20a0a",
   "metadata": {},
   "outputs": [],
   "source": [
    "dt1 = DecisionTreeRegressor()\n",
    "gc = GridSearchCV(dt1,params)"
   ]
  },
  {
   "cell_type": "code",
   "execution_count": 211,
   "id": "bc08ada1-ad88-4c5e-84e7-5bf98717282d",
   "metadata": {},
   "outputs": [
    {
     "name": "stdout",
     "output_type": "stream",
     "text": [
      " RMSE : 4767.993577835204 \n",
      " rms_percentage_error : 51.96947795550256\n"
     ]
    }
   ],
   "source": [
    "gc.fit(xtrain,ytrain)\n",
    "pred_gc = gc.predict(xtest)\n",
    "get_rms_percentage_error(pred_gc,ytest)"
   ]
  },
  {
   "cell_type": "code",
   "execution_count": 213,
   "id": "081e3787-820e-44cf-b5ce-d5e388be9566",
   "metadata": {},
   "outputs": [
    {
     "name": "stdout",
     "output_type": "stream",
     "text": [
      " RMSE : 4466.895235671088 \n",
      " rms_percentage_error : 47.427734474444236\n"
     ]
    }
   ],
   "source": [
    "pred_gc_train = gc.predict(xtrain)\n",
    "get_rms_percentage_error(pred_gc_train,ytrain)"
   ]
  },
  {
   "cell_type": "markdown",
   "id": "d0097a8d-de81-4f7b-8750-38b2073a05dc",
   "metadata": {},
   "source": [
    "Gradient Bossting Regressor"
   ]
  },
  {
   "cell_type": "code",
   "execution_count": 216,
   "id": "e16eee69-286f-479d-8df1-7d84f14689c7",
   "metadata": {},
   "outputs": [],
   "source": [
    "from sklearn.ensemble import GradientBoostingRegressor"
   ]
  },
  {
   "cell_type": "code",
   "execution_count": 218,
   "id": "0d619063-aa00-458a-94e3-8d42950608f2",
   "metadata": {},
   "outputs": [
    {
     "name": "stdout",
     "output_type": "stream",
     "text": [
      " RMSE : 2860.3538280181524 \n",
      " rms_percentage_error : 31.176865652914387\n"
     ]
    }
   ],
   "source": [
    "gb = GradientBoostingRegressor()\n",
    "gb.fit(xtrain,ytrain)\n",
    "pred_gb = gb.predict(xtest)\n",
    "get_rms_percentage_error(pred_gb,ytest)"
   ]
  },
  {
   "cell_type": "code",
   "execution_count": 220,
   "id": "3dc3a925-59ac-4279-a0a5-d0eff53410ff",
   "metadata": {},
   "outputs": [
    {
     "name": "stdout",
     "output_type": "stream",
     "text": [
      " RMSE : 2420.3251453117996 \n",
      " rms_percentage_error : 25.698059228475064\n"
     ]
    }
   ],
   "source": [
    "pred_gb_train = gb.predict(xtrain)\n",
    "get_rms_percentage_error(pred_gb_train,ytrain)"
   ]
  },
  {
   "cell_type": "markdown",
   "id": "738cde30-7893-4c61-a2a8-965d6fd01efc",
   "metadata": {},
   "source": [
    "##### Best Model - Linear Regression"
   ]
  },
  {
   "cell_type": "code",
   "execution_count": null,
   "id": "f6fcd178-b19f-4ef6-ba55-fe66404b9db1",
   "metadata": {},
   "outputs": [],
   "source": [
    "with open('./BestModel.pkl','wb') as file:\n",
    "    pickle.dump(lr,)"
   ]
  }
 ],
 "metadata": {
  "kernelspec": {
   "display_name": "Python (NLP_DL)",
   "language": "python",
   "name": "nlp_dl_env"
  },
  "language_info": {
   "codemirror_mode": {
    "name": "ipython",
    "version": 3
   },
   "file_extension": ".py",
   "mimetype": "text/x-python",
   "name": "python",
   "nbconvert_exporter": "python",
   "pygments_lexer": "ipython3",
   "version": "3.10.16"
  }
 },
 "nbformat": 4,
 "nbformat_minor": 5
}
